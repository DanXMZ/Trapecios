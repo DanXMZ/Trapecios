{
 "cells": [
  {
   "cell_type": "markdown",
   "id": "da2b7865",
   "metadata": {},
   "source": [
    "## Método del trapecio\n",
    "\n",
    "Es un método de integración numérica para calcular aproximadamente el valor de la integral definida $$\\int_{a}^b f(x)d(x).$$\n",
    "Se basa en aproximar el valor de la integral de $f(x)$ por el de la función lineal que pasa a través de los puntos\n",
    "$(a, f(a))$ y $(b, f(b))$. La integral de ésta es igual al área del trapecio bajo la gráfica de la función lineal. Se sigue que $$\\int_{a}^b f(x)d(x) \\approx (b-a) \\frac {f(a)+f(b)}{2}.$$\n",
    "Y el error es: $$- \\frac {(b-a)^3}{12} f^{(2)}(\\xi)$$\n",
    "Siendo $ \\xi$ un numero entre $a$ y $b$"
   ]
  },
  {
   "cell_type": "code",
   "execution_count": null,
   "id": "337f515a",
   "metadata": {},
   "outputs": [],
   "source": []
  },
  {
   "cell_type": "markdown",
   "id": "68a863e1",
   "metadata": {},
   "source": [
    "### Método de los trapecios (Método del trapecio compuesto)\n",
    "El método de los trapecios es una extensión de lo anterior, una forma de aproximar una integral definida utilizando $n$ trapecios. En la formulación de este método se supone que $f(x)$ es continua y positiva en el intervalo $[a,b]$.\n",
    "\n",
    "Inicialmente tendriamos que el intervalo $[a,b]$ se divide en n subintervalos, cada uno de la misma longitud de ancho $\\Delta x = \\frac {(b - a)}{n}.$\n",
    "\n",
    "Y finalmente queda dada por la siguiente fórmula:\n",
    "$$\\int_{a}^b f(x)d(x) \\approx \\frac {h}{2} [f(a) + 2 \\sum_{K=1}^{n-1}f(x_k)+f(b)].$$\n",
    "donde $h= \\Delta x = \\frac {(b - a)}{n}$ y $x_k= a+ kh$\n",
    "\n",
    "Y el error estimado viene dado por $$E_x=-\\frac{b-a}{12}h^2 f^{(2)}(\\xi)$$\n",
    "\n",
    "Donde $\\xi$ es un punto en el intervalo, es decir, $\\Delta x$"
   ]
  },
  {
   "cell_type": "markdown",
   "id": "2b0b3855",
   "metadata": {},
   "source": [
    "#### Ejemplo \n",
    "Usando una funcion definida como $f(x)=x^3−6*x^2+11*x−6$ realizamos la aproximación en el intervalo (1:2) usando un numero seis subintervalos(trapecios)"
   ]
  },
  {
   "cell_type": "code",
   "execution_count": 98,
   "id": "8e35842b",
   "metadata": {},
   "outputs": [
    {
     "data": {
      "text/plain": [
       "Met_Trapecios (generic function with 2 methods)"
      ]
     },
     "execution_count": 98,
     "metadata": {},
     "output_type": "execute_result"
    }
   ],
   "source": [
    "function Met_Trapecios(n::Int, lim_a, lim_b)\n",
    "    f(x)=x^3−6*x^2+11*x−6\n",
    "    aprox_trap=0\n",
    "    h = (lim_b-lim_a)/n\n",
    "    for k in 1:n-1\n",
    "        println(aprox_trap += f(lim_a + k*h))\n",
    "    end\n",
    "    return h/2 * (f(lim_a) + 2*aprox_trap + f(lim_b))\n",
    "end   "
   ]
  },
  {
   "cell_type": "code",
   "execution_count": 99,
   "id": "d4b377cd",
   "metadata": {},
   "outputs": [
    {
     "name": "stdout",
     "output_type": "stream",
     "text": [
      "h = (lim_b - lim_a) / n = 0.16666666666666666\n",
      "0.25462962962962976\n",
      "0.625\n",
      "1.0\n",
      "1.2962962962962958\n",
      "1.4583333333333321\n"
     ]
    },
    {
     "data": {
      "text/plain": [
       "0.24305555555555536"
      ]
     },
     "execution_count": 99,
     "metadata": {},
     "output_type": "execute_result"
    }
   ],
   "source": [
    "num_intervalos=6\n",
    "lim_inferior=1\n",
    "lim_superior=2\n",
    "Met_Trapecios(num_intervalos,lim_inferior,lim_superior)"
   ]
  },
  {
   "cell_type": "markdown",
   "id": "d292b80a",
   "metadata": {},
   "source": [
    "Evaluando la integral de la función de forma directa el resultado sería $$\\int_{1}^2 (x^3−6*x^2+11*x−6) d(x)=0.25$$"
   ]
  },
  {
   "cell_type": "markdown",
   "id": "08b422a9",
   "metadata": {},
   "source": [
    "Calculamos el error:"
   ]
  },
  {
   "cell_type": "code",
   "execution_count": 100,
   "id": "45a0d817",
   "metadata": {},
   "outputs": [
    {
     "data": {
      "text/plain": [
       "error_metodo (generic function with 1 method)"
      ]
     },
     "execution_count": 100,
     "metadata": {},
     "output_type": "execute_result"
    }
   ],
   "source": [
    "function error_metodo(n,lim_a,lim_b)\n",
    "    var_e=(lim_b-lim_a)/12\n",
    "    h = (lim_b-lim_a)/n\n",
    "    f2(x)=6*x-12\n",
    "    return -var_e*h^2*f2(h)\n",
    "end    "
   ]
  },
  {
   "cell_type": "code",
   "execution_count": 103,
   "id": "54afaa29",
   "metadata": {},
   "outputs": [
    {
     "data": {
      "text/plain": [
       "0.02546296296296296"
      ]
     },
     "execution_count": 103,
     "metadata": {},
     "output_type": "execute_result"
    }
   ],
   "source": [
    "error_metodo(6,1,2)"
   ]
  },
  {
   "cell_type": "code",
   "execution_count": null,
   "id": "b1a43647",
   "metadata": {},
   "outputs": [],
   "source": [
    "\n",
    "function tabla(n,error)\n",
    "    datos_error=[]\n",
    "    for i 1=n\n",
    "        push!=(dator_error,error)"
   ]
  },
  {
   "cell_type": "code",
   "execution_count": 105,
   "id": "ddb5cf12",
   "metadata": {
    "collapsed": true
   },
   "outputs": [
    {
     "name": "stderr",
     "output_type": "stream",
     "text": [
      "\u001b[32m\u001b[1m    Updating\u001b[22m\u001b[39m registry at `C:\\Users\\dan_x\\.julia\\registries\\General.toml`\n",
      "\u001b[32m\u001b[1m   Resolving\u001b[22m\u001b[39m package versions...\n",
      "\u001b[32m\u001b[1m   Installed\u001b[22m\u001b[39m Pango_jll ── v1.50.9+0\n",
      "\u001b[32m\u001b[1m   Installed\u001b[22m\u001b[39m CairoMakie ─ v0.8.13\n",
      "\u001b[32m\u001b[1m   Installed\u001b[22m\u001b[39m Cairo ────── v1.0.5\n",
      "\u001b[32m\u001b[1m    Updating\u001b[22m\u001b[39m `C:\\Users\\dan_x\\.julia\\environments\\v1.7\\Project.toml`\n",
      " \u001b[90m [13f3f980] \u001b[39m\u001b[92m+ CairoMakie v0.8.13\u001b[39m\n",
      "\u001b[32m\u001b[1m    Updating\u001b[22m\u001b[39m `C:\\Users\\dan_x\\.julia\\environments\\v1.7\\Manifest.toml`\n",
      " \u001b[90m [159f3aea] \u001b[39m\u001b[92m+ Cairo v1.0.5\u001b[39m\n",
      " \u001b[90m [13f3f980] \u001b[39m\u001b[92m+ CairoMakie v0.8.13\u001b[39m\n",
      " \u001b[90m [36c8627f] \u001b[39m\u001b[92m+ Pango_jll v1.50.9+0\u001b[39m\n",
      "\u001b[32m\u001b[1mPrecompiling\u001b[22m\u001b[39m project...\n",
      "\u001b[32m  ✓ \u001b[39m\u001b[90mPango_jll\u001b[39m\n",
      "\u001b[32m  ✓ \u001b[39m\u001b[90mCairo\u001b[39m\n",
      "\u001b[32m  ✓ \u001b[39mCairoMakie\n",
      "  3 dependencies successfully precompiled in 85 seconds (341 already precompiled, 1 skipped during auto due to previous errors)\n"
     ]
    }
   ],
   "source": [
    "] add CairoMakie"
   ]
  },
  {
   "cell_type": "code",
   "execution_count": 111,
   "id": "0f18c78f",
   "metadata": {},
   "outputs": [],
   "source": [
    "using CairoMakie"
   ]
  },
  {
   "cell_type": "code",
   "execution_count": 134,
   "id": "a76b8bc3",
   "metadata": {},
   "outputs": [
    {
     "data": {
      "image/png": "[encoded data removed]",
      "text/plain": [
       "Figure()"
      ]
     },
     "execution_count": 134,
     "metadata": {},
     "output_type": "execute_result"
    }
   ],
   "source": [
    "fig = Figure()\n",
    "ax = Axis(fig[1, 1],title = \"Comparacion error vs numero de trapecios\",xlabel=\"muestras\", ylabel=\"error\")\n",
    "x = range(-50, 50, length=100)\n",
    "y = x.^3 .− 6 .* x.^2 .+ 11 .*x .− 6\n",
    "\n",
    "lines!(ax,x,y)\n",
    "fig"
   ]
  },
  {
   "cell_type": "code",
   "execution_count": 135,
   "id": "1404fd45",
   "metadata": {},
   "outputs": [
    {
     "data": {
      "text/plain": [
       "-50.0:1.0101010101010102:50.0"
      ]
     },
     "execution_count": 135,
     "metadata": {},
     "output_type": "execute_result"
    }
   ],
   "source": [
    "x"
   ]
  },
  {
   "cell_type": "code",
   "execution_count": 136,
   "id": "78049489",
   "metadata": {},
   "outputs": [
    {
     "data": {
      "text/plain": [
       "100-element Vector{Float64}:\n",
       " -140556.0\n",
       " -132521.20752881328\n",
       " -124798.5662605032\n",
       " -117381.89253415701\n",
       " -110265.00268886189\n",
       " -103441.71306370507\n",
       "  -96905.83999777386\n",
       "  -90651.19983015543\n",
       "  -84671.60889993701\n",
       "  -78960.88354620585\n",
       "  -73512.84010804915\n",
       "  -68321.29492455418\n",
       "  -63380.06433480812\n",
       "       ⋮\n",
       "   50161.14677640603\n",
       "   54397.68736853278\n",
       "   58866.23891810668\n",
       "   63572.98508604048\n",
       "   68524.10953324694\n",
       "   73725.79592063888\n",
       "   79184.22790912903\n",
       "   84905.58915963018\n",
       "   90896.06333305508\n",
       "   97161.8340903165\n",
       "  103709.08509232721\n",
       "  110544.0"
      ]
     },
     "execution_count": 136,
     "metadata": {},
     "output_type": "execute_result"
    }
   ],
   "source": [
    "y"
   ]
  },
  {
   "cell_type": "code",
   "execution_count": null,
   "id": "adaf0c0e",
   "metadata": {},
   "outputs": [],
   "source": []
  }
 ],
 "metadata": {
  "kernelspec": {
   "display_name": "Julia 1.7.3",
   "language": "julia",
   "name": "julia-1.7"
  },
  "language_info": {
   "file_extension": ".jl",
   "mimetype": "application/julia",
   "name": "julia",
   "version": "1.7.3"
  }
 },
 "nbformat": 4,
 "nbformat_minor": 5
}
