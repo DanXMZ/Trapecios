{
 "cells": [
  {
   "cell_type": "markdown",
   "id": "2b2cd651",
   "metadata": {},
   "source": [
    "## Método del trapecio\n",
    "\n",
    "Es un método de integración numérica para calcular aproximadamente el valor de la integral definida $$\\int_{a}^b f(x)d(x).$$\n",
    "Se basa en aproximar el valor de la integral de $f(x)$ por el de la función lineal que pasa a través de los puntos\n",
    "$(a, f(a))$ y $(b, f(b))$. La integral de ésta es igual al área del trapecio bajo la gráfica de la función lineal. Se sigue que $$\\int_{a}^b f(x)d(x) \\approx (b-a) \\frac {f(a)+f(b)}{2}.$$\n",
    "Y el error es: $$- \\frac {(b-a)^3}{12} f^{(2)}(\\xi)$$\n",
    "Siendo $ \\xi$ un numero entre $a$ y $b$"
   ]
  },
  {
   "cell_type": "markdown",
   "id": "a89ca233",
   "metadata": {},
   "source": [
    "### Método de los trapecios (Método del trapecio compuesto)\n",
    "El método de los trapecios es una extensión de lo anterior, una forma de aproximar una integral definida utilizando $n$ trapecios. En la formulación de este método se supone que $f(x)$ es continua y positiva en el intervalo $[a,b]$.\n",
    "\n",
    "Inicialmente tendriamos que el intervalo $[a,b]$ se divide en n subintervalos, cada uno de la misma longitud de ancho $\\Delta x = \\frac {(b - a)}{n}.$\n",
    "\n",
    "Y finalmente queda dada por la siguiente fórmula:\n",
    "$$\\int_{a}^b f(x)d(x) \\approx \\frac {h}{2} [f(a) + 2 \\sum_{k=1}^{n-1}f(x_k)+f(b)].$$\n",
    "donde $h= \\Delta x = \\frac {(b - a)}{n}$ y $x_k= a+ kh$\n",
    "\n",
    "Y el error estimado viene dado por $$E_x=-\\frac{b-a}{12}h^2 f^{(2)}(\\xi)$$\n",
    "\n",
    "Donde $\\xi$ es un punto en el intervalo, es decir, $\\Delta x$"
   ]
  },
  {
   "cell_type": "code",
   "execution_count": 103,
   "id": "6070b0c8",
   "metadata": {},
   "outputs": [
    {
     "data": {
      "text/plain": [
       "Met_Trapecios (generic function with 1 method)"
      ]
     },
     "execution_count": 103,
     "metadata": {},
     "output_type": "execute_result"
    }
   ],
   "source": [
    "f(x)=x^(1/2) + 2\n",
    "function Met_Trapecios(n::Int, lim_a, lim_b)\n",
    "    #f(x)=x^(1/2) + 2\n",
    "    aprox_trap=0\n",
    "    h = (lim_b-lim_a)/n\n",
    "    for k in 1:n-1\n",
    "        aprox_trap += f(lim_a + k*h)\n",
    "    end\n",
    "    return h/2 * (f(lim_a) + 2*aprox_trap + f(lim_b))\n",
    "end"
   ]
  },
  {
   "cell_type": "code",
   "execution_count": 104,
   "id": "bb57af4d",
   "metadata": {},
   "outputs": [
    {
     "data": {
      "text/plain": [
       "Met_trap_Vect (generic function with 1 method)"
      ]
     },
     "execution_count": 104,
     "metadata": {},
     "output_type": "execute_result"
    }
   ],
   "source": [
    "function Met_trap_Vect(n::Int, lim_a, lim_b)\n",
    "    #f(x)=x^(1/2) + 2\n",
    "    aprox_trap=0\n",
    "    k=[1:n-1;]\n",
    "    h = (lim_b-lim_a)/n\n",
    "    aprox_trap = sum(f.(lim_a .+ k*h))\n",
    "    return h/2 * (f(lim_a) + 2*aprox_trap + f(lim_b))\n",
    "end"
   ]
  },
  {
   "cell_type": "markdown",
   "id": "f755e099",
   "metadata": {},
   "source": [
    "#### Ejemplo \n",
    "Usando una funcion definida como $f(x)=\\sqrt{x}+2$ realizamos la aproximación en el intervalo (1:5) usando 10 subintervalos(trapecios)"
   ]
  },
  {
   "cell_type": "code",
   "execution_count": 105,
   "id": "8a738d1a",
   "metadata": {},
   "outputs": [
    {
     "data": {
      "text/plain": [
       "5"
      ]
     },
     "execution_count": 105,
     "metadata": {},
     "output_type": "execute_result"
    }
   ],
   "source": [
    "num_intervalos=1000\n",
    "lim_inferior=0\n",
    "lim_superior=5"
   ]
  },
  {
   "cell_type": "code",
   "execution_count": 106,
   "id": "79d13805",
   "metadata": {},
   "outputs": [
    {
     "name": "stdout",
     "output_type": "stream",
     "text": [
      "  3.600 μs (0 allocations: 0 bytes)\n"
     ]
    },
    {
     "data": {
      "text/plain": [
       "17.45348689196708"
      ]
     },
     "execution_count": 106,
     "metadata": {},
     "output_type": "execute_result"
    }
   ],
   "source": [
    "@btime Met_Trapecios($num_intervalos,$lim_inferior,$lim_superior)"
   ]
  },
  {
   "cell_type": "code",
   "execution_count": 107,
   "id": "c5b3f6d9",
   "metadata": {},
   "outputs": [
    {
     "name": "stdout",
     "output_type": "stream",
     "text": [
      "  2.367 μs (3 allocations: 23.81 KiB)\n"
     ]
    },
    {
     "data": {
      "text/plain": [
       "17.453486891967085"
      ]
     },
     "execution_count": 107,
     "metadata": {},
     "output_type": "execute_result"
    }
   ],
   "source": [
    "@btime Met_trap_Vect($num_intervalos,$lim_inferior,$lim_superior)"
   ]
  },
  {
   "cell_type": "markdown",
   "id": "26381c82",
   "metadata": {},
   "source": [
    "Evaluando la integral de la función de forma directa el resultado sería $$\\int_{1}^{10} (\\sqrt{x}+2) d(x)=17.4535$$"
   ]
  },
  {
   "cell_type": "markdown",
   "id": "c78fa98c",
   "metadata": {},
   "source": [
    "Observamos el valor obtenido con la aproximación numérica y el valor real y podemos darnos cuenta de la variación que se genera.\n"
   ]
  },
  {
   "cell_type": "code",
   "execution_count": 39,
   "id": "27e40c39",
   "metadata": {},
   "outputs": [
    {
     "data": {
      "text/plain": [
       "error_metodo (generic function with 1 method)"
      ]
     },
     "execution_count": 39,
     "metadata": {},
     "output_type": "execute_result"
    }
   ],
   "source": [
    "function error_metodo(n,lim_a,lim_b)\n",
    "    var_e=(lim_b-lim_a)/12\n",
    "    h = (lim_b-lim_a)/n\n",
    "    f2(x)=-1/(4*x^(3/2))\n",
    "    return -var_e*(h^2)*f2(h)\n",
    "end    "
   ]
  },
  {
   "cell_type": "markdown",
   "id": "79e3292c",
   "metadata": {},
   "source": [
    "Calculamos el error:"
   ]
  },
  {
   "cell_type": "code",
   "execution_count": 91,
   "id": "0ca44fba",
   "metadata": {},
   "outputs": [
    {
     "data": {
      "text/plain": [
       "0.03294039229342062"
      ]
     },
     "execution_count": 91,
     "metadata": {},
     "output_type": "execute_result"
    }
   ],
   "source": [
    "error_metodo(num_intervalos,lim_inferior,lim_superior)"
   ]
  },
  {
   "cell_type": "markdown",
   "id": "3933850a",
   "metadata": {},
   "source": [
    "Generamos una tabla con el error asociado al numero de trapecios utilizados."
   ]
  },
  {
   "cell_type": "code",
   "execution_count": 93,
   "id": "180f37dd",
   "metadata": {},
   "outputs": [],
   "source": [
    "datos_error=Float64[]\n",
    "for i in 5:5:100\n",
    "    push!(datos_error, error_metodo(i,lim_inferior,lim_superior))\n",
    "end"
   ]
  },
  {
   "cell_type": "code",
   "execution_count": 94,
   "id": "9838dded",
   "metadata": {},
   "outputs": [
    {
     "name": "stdout",
     "output_type": "stream",
     "text": [
      "# trapecios   error\n",
      "5            0.10416666666666667\n",
      "10            0.0736569563735987\n",
      "15            0.060140653040586016\n",
      "20            0.052083333333333336\n",
      "25            0.046584749531245626\n",
      "30            0.04252586358998573\n",
      "35            0.0393712992717945\n",
      "40            0.03682847818679935\n",
      "45            0.034722222222222224\n",
      "50            0.03294039229342062\n",
      "55            0.03140743172685038\n",
      "60            0.030070326520293008\n",
      "65            0.028890635220064024\n",
      "70            0.02783971269921087\n",
      "75            0.026895717681995952\n",
      "80            0.026041666666666668\n",
      "85            0.02526412760795135\n",
      "90            0.024552318791199568\n",
      "95            0.023897472278183517\n",
      "100            0.023292374765622813\n"
     ]
    }
   ],
   "source": [
    "println(\"# trapecios   error\")\n",
    "for index in 1:length(datos_error)\n",
    "    println(index*5,\"            \",datos_error[index] )\n",
    "end"
   ]
  },
  {
   "cell_type": "raw",
   "id": "98bb0916",
   "metadata": {},
   "source": []
  },
  {
   "cell_type": "markdown",
   "id": "1be79936",
   "metadata": {},
   "source": [
    "Graficamos la tabla anterior usando el paquete de CairoMakie"
   ]
  },
  {
   "cell_type": "code",
   "execution_count": 47,
   "id": "dfb2b80d",
   "metadata": {
    "collapsed": true
   },
   "outputs": [
    {
     "name": "stderr",
     "output_type": "stream",
     "text": [
      "\u001b[32m\u001b[1m    Updating\u001b[22m\u001b[39m registry at `~/.julia/registries/General`\n",
      "\u001b[32m\u001b[1m    Updating\u001b[22m\u001b[39m git-repo `https://github.com/JuliaRegistries/General.git`\n",
      "\u001b[32m\u001b[1m   Resolving\u001b[22m\u001b[39m package versions...\n",
      "\u001b[32m\u001b[1m   Installed\u001b[22m\u001b[39m CairoMakie ─ v0.8.13\n",
      "\u001b[32m\u001b[1m    Updating\u001b[22m\u001b[39m `~/.julia/environments/v1.8/Project.toml`\n",
      "\u001b[32m⌃\u001b[39m\u001b[90m [13f3f980] \u001b[39m\u001b[92m+ CairoMakie v0.8.13\u001b[39m\n",
      "\u001b[32m\u001b[1m    Updating\u001b[22m\u001b[39m `~/.julia/environments/v1.8/Manifest.toml`\n",
      "\u001b[32m⌃\u001b[39m\u001b[90m [13f3f980] \u001b[39m\u001b[92m+ CairoMakie v0.8.13\u001b[39m\n",
      "\u001b[36m\u001b[1m        Info\u001b[22m\u001b[39m Packages marked with \u001b[32m⌃\u001b[39m have new versions available\n",
      "\u001b[32m\u001b[1mPrecompiling\u001b[22m\u001b[39m project...\n",
      "\u001b[32m  ✓ \u001b[39mCairoMakie\n",
      "  1 dependency successfully precompiled in 85 seconds. 256 already precompiled. 1 skipped during auto due to previous errors.\n"
     ]
    }
   ],
   "source": [
    "] add CairoMakie"
   ]
  },
  {
   "cell_type": "code",
   "execution_count": 97,
   "id": "e923a80a",
   "metadata": {},
   "outputs": [],
   "source": [
    "using CairoMakie"
   ]
  },
  {
   "cell_type": "code",
   "execution_count": 99,
   "id": "c1955c1d",
   "metadata": {},
   "outputs": [
    {
     "data": {
      "image/png": "[encoded data removed]",
      "text/plain": [
       "FigureAxisPlot()"
      ]
     },
     "execution_count": 99,
     "metadata": {},
     "output_type": "execute_result"
    }
   ],
   "source": [
    "x = [5:5:100;]\n",
    "scatter(x,datos_error;\n",
    "    figure = (; resolution = (800, 800)),\n",
    "    axis = (;title = \"Error vs Numero de trapecios\",xlabel=\"muestras\", ylabel=\"error\"))"
   ]
  },
  {
   "cell_type": "markdown",
   "id": "40bcf90b",
   "metadata": {},
   "source": [
    "Podemos comprobar en la tabla y por tanto en la gráfica que a medida que usamos mas muestras disminuye la perdida de exactitud respecto al valor real de la integral."
   ]
  },
  {
   "cell_type": "markdown",
   "id": "7d673c6a",
   "metadata": {},
   "source": []
  },
  {
   "cell_type": "code",
   "execution_count": 83,
   "id": "668d6317",
   "metadata": {},
   "outputs": [],
   "source": [
    "using BenchmarkTools"
   ]
  },
  {
   "cell_type": "code",
   "execution_count": 129,
   "id": "3322cab7",
   "metadata": {},
   "outputs": [
    {
     "name": "stdout",
     "output_type": "stream",
     "text": [
      "  1.851 ms (1979 allocations: 46.55 KiB)\n"
     ]
    }
   ],
   "source": [
    "ntrapecios=[1:1000;]\n",
    "@btime  for muestras in ntrapecios\n",
    "    Met_Trapecios(muestras,$lim_inferior,$lim_superior)\n",
    "end"
   ]
  },
  {
   "cell_type": "code",
   "execution_count": 134,
   "id": "328e61f3",
   "metadata": {},
   "outputs": [
    {
     "name": "stdout",
     "output_type": "stream",
     "text": [
      "  1.820 ms (1 allocation: 7.94 KiB)\n",
      "  2.074 ms (3001 allocations: 11.85 MiB)\n"
     ]
    }
   ],
   "source": [
    "@btime Met_Trapecios.($ntrapecios,$lim_inferior,$lim_superior);\n",
    "@btime Met_trap_Vect.($ntrapecios,$lim_inferior,$lim_superior);"
   ]
  },
  {
   "cell_type": "markdown",
   "id": "9293e77c",
   "metadata": {},
   "source": [
    "Comparamos con las herramientas de Benchmarking de julia y observamos que la vectorización de la función redujo el tiempo y la memoria utilizada para el calculo"
   ]
  },
  {
   "cell_type": "code",
   "execution_count": null,
   "id": "90d1dbe4",
   "metadata": {},
   "outputs": [],
   "source": []
  }
 ],
 "metadata": {
  "kernelspec": {
   "display_name": "Julia 1.7.3",
   "language": "julia",
   "name": "julia-1.7"
  },
  "language_info": {
   "file_extension": ".jl",
   "mimetype": "application/julia",
   "name": "julia",
   "version": "1.7.3"
  }
 },
 "nbformat": 4,
 "nbformat_minor": 5
}
