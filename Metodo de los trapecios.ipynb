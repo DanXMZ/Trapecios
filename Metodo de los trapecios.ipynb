{
 "cells": [
  {
   "cell_type": "markdown",
   "metadata": {},
   "source": [
    "## Método del trapecio\n",
    "\n",
    "Es un método de integración numérica para calcular aproximadamente el valor de la integral definida $$\\int_{a}^b f(x)d(x).$$\n",
    "Se basa en aproximar el valor de la integral de $f(x)$ por el de la función lineal que pasa a través de los puntos\n",
    "$(a, f(a))$ y $(b, f(b))$. La integral de ésta es igual al área del trapecio bajo la gráfica de la función lineal. Se sigue que $$\\int_{a}^b f(x)d(x) \\approx (b-a) \\frac {f(a)+f(b)}{2}.$$\n",
    "Y el error es: $$- \\frac {(b-a)^3}{12} f^{(2)}(\\xi)$$\n",
    "Siendo $ \\xi$ un numero entre $a$ y $b$"
   ]
  },
  {
   "cell_type": "markdown",
   "metadata": {},
   "source": [
    "### Método de los trapecios (Método del trapecio compuesto)\n",
    "El método de los trapecios es una extensión de lo anterior, una forma de aproximar una integral definida utilizando $n$ trapecios. En la formulación de este método se supone que $f(x)$ es continua y positiva en el intervalo $[a,b]$.\n",
    "\n",
    "Inicialmente tendriamos que el intervalo $[a,b]$ se divide en n subintervalos, cada uno de la misma longitud de ancho $\\Delta x = \\frac {(b - a)}{n}.$\n",
    "\n",
    "Y finalmente queda dada por la siguiente fórmula:\n",
    "$$\\int_{a}^b f(x)d(x) \\approx \\frac {h}{2} [f(a) + 2 \\sum_{K=1}^{n-1}f(x_k)+f(b)].$$\n",
    "donde $h= \\Delta x = \\frac {(b - a)}{n}$ y $x_k= a+ kh$\n",
    "\n",
    "Y el error estimado viene dado por $$E_x=-\\frac{b-a}{12}h^2 f^{(2)}(\\xi)$$\n",
    "\n",
    "Donde $\\xi$ es un punto en el intervalo, es decir, $\\Delta x$"
   ]
  },
  {
   "cell_type": "markdown",
   "metadata": {},
   "source": [
    "#### Ejemplo \n",
    "Usando una funcion definida como $f(x)=x^3−6*x^2+11*x−6$ realizamos la aproximación en el intervalo (1:10) usando 10 subintervalos(trapecios)"
   ]
  },
  {
   "cell_type": "code",
   "execution_count": 156,
   "metadata": {},
   "outputs": [
    {
     "data": {
      "text/plain": [
       "Met_Trapecios (generic function with 1 method)"
      ]
     },
     "execution_count": 156,
     "metadata": {},
     "output_type": "execute_result"
    }
   ],
   "source": [
    "function Met_Trapecios(n::Int, lim_a, lim_b)\n",
    "    f(x)=x^3−6*x^2+11*x−6\n",
    "    aprox_trap=0\n",
    "    h = (lim_b-lim_a)/n\n",
    "    for k in 1:n-1\n",
    "        aprox_trap += f(lim_a + k*h)\n",
    "    end\n",
    "    return h/2 * (f(lim_a) + 2*aprox_trap + f(lim_b))\n",
    "end   "
   ]
  },
  {
   "cell_type": "code",
   "execution_count": 166,
   "metadata": {},
   "outputs": [
    {
     "data": {
      "text/plain": [
       "994.1793749999997"
      ]
     },
     "execution_count": 166,
     "metadata": {},
     "output_type": "execute_result"
    }
   ],
   "source": [
    "num_intervalos=20\n",
    "lim_inferior=3\n",
    "lim_superior=10\n",
    "Met_Trapecios(num_intervalos,lim_inferior,lim_superior)"
   ]
  },
  {
   "cell_type": "markdown",
   "metadata": {},
   "source": [
    "Evaluando la integral de la función de forma directa el resultado sería $$\\int_{1}^{10} (x^3−6*x^2+11*x−6) d(x)=992.55$$"
   ]
  },
  {
   "cell_type": "markdown",
   "metadata": {},
   "source": [
    "Calculamos el error:"
   ]
  },
  {
   "cell_type": "code",
   "execution_count": 162,
   "metadata": {},
   "outputs": [
    {
     "data": {
      "text/plain": [
       "error_metodo (generic function with 1 method)"
      ]
     },
     "execution_count": 162,
     "metadata": {},
     "output_type": "execute_result"
    }
   ],
   "source": [
    "function error_metodo(n,lim_a,lim_b)\n",
    "    var_e=(lim_b-lim_a)/12\n",
    "    h = (lim_b-lim_a)/n\n",
    "    f2(x)=6*x-12\n",
    "    return -var_e*h^2*f2(h)\n",
    "end    "
   ]
  },
  {
   "cell_type": "code",
   "execution_count": 167,
   "metadata": {},
   "outputs": [
    {
     "data": {
      "text/plain": [
       "0.7074375"
      ]
     },
     "execution_count": 167,
     "metadata": {},
     "output_type": "execute_result"
    }
   ],
   "source": [
    "error_metodo(20,3,10)"
   ]
  },
  {
   "cell_type": "code",
   "execution_count": 152,
   "metadata": {},
   "outputs": [
    {
     "name": "stdout",
     "output_type": "stream",
     "text": [
      "Precisión:400.95%\n"
     ]
    }
   ],
   "source": [
    "Precision_porcentual=error_metodo(10,1,10)*100\n",
    "println(\"Precisión:$Precision_porcentual%\")"
   ]
  },
  {
   "cell_type": "code",
   "execution_count": 108,
   "metadata": {},
   "outputs": [],
   "source": [
    "datos_error=Float64[]\n",
    "for i in 10:5:100\n",
    "    push!(datos_error, error_metodo(i,1,10))\n",
    "end"
   ]
  },
  {
   "cell_type": "markdown",
   "metadata": {},
   "source": [
    "Generamos una tabla con el error asociado al numero de trapecios utilizados, y notamos que a medida que usamos mas muestras disminuye la perdida de exactitud respecto al valor real de la integral."
   ]
  },
  {
   "cell_type": "code",
   "execution_count": 165,
   "metadata": {},
   "outputs": [
    {
     "name": "stdout",
     "output_type": "stream",
     "text": [
      "# trapecios   error\n",
      "10            2.2295000000000003\n",
      "15            1.1687407407407409\n",
      "20            0.7074375\n",
      "25            0.4719680000000001\n",
      "30            0.3366481481481482\n",
      "35            0.25200000000000006\n",
      "40            0.19561718749999998\n",
      "45            0.1562085048010974\n",
      "50            0.12759600000000001\n",
      "55            0.10617280240420733\n",
      "60            0.08971990740740743\n",
      "65            0.0768120163859809\n",
      "70            0.06650000000000002\n",
      "75            0.05813214814814816\n",
      "80            0.0512490234375\n",
      "85            0.045519234683492775\n",
      "90            0.04069890260631002\n",
      "95            0.03660533605481848\n",
      "100            0.033099500000000004\n"
     ]
    }
   ],
   "source": [
    "println(\"# trapecios   error\")\n",
    "for index in 10:5:100\n",
    "    println(\"$index            \",error_metodo(index,3,10) )\n",
    "end"
   ]
  },
  {
   "cell_type": "code",
   "execution_count": 47,
   "metadata": {
    "collapsed": true
   },
   "outputs": [
    {
     "name": "stderr",
     "output_type": "stream",
     "text": [
      "\u001b[32m\u001b[1m    Updating\u001b[22m\u001b[39m registry at `~/.julia/registries/General`\n",
      "\u001b[32m\u001b[1m    Updating\u001b[22m\u001b[39m git-repo `https://github.com/JuliaRegistries/General.git`\n",
      "\u001b[32m\u001b[1m   Resolving\u001b[22m\u001b[39m package versions...\n",
      "\u001b[32m\u001b[1m   Installed\u001b[22m\u001b[39m CairoMakie ─ v0.8.13\n",
      "\u001b[32m\u001b[1m    Updating\u001b[22m\u001b[39m `~/.julia/environments/v1.8/Project.toml`\n",
      "\u001b[32m⌃\u001b[39m\u001b[90m [13f3f980] \u001b[39m\u001b[92m+ CairoMakie v0.8.13\u001b[39m\n",
      "\u001b[32m\u001b[1m    Updating\u001b[22m\u001b[39m `~/.julia/environments/v1.8/Manifest.toml`\n",
      "\u001b[32m⌃\u001b[39m\u001b[90m [13f3f980] \u001b[39m\u001b[92m+ CairoMakie v0.8.13\u001b[39m\n",
      "\u001b[36m\u001b[1m        Info\u001b[22m\u001b[39m Packages marked with \u001b[32m⌃\u001b[39m have new versions available\n",
      "\u001b[32m\u001b[1mPrecompiling\u001b[22m\u001b[39m project...\n",
      "\u001b[32m  ✓ \u001b[39mCairoMakie\n",
      "  1 dependency successfully precompiled in 85 seconds. 256 already precompiled. 1 skipped during auto due to previous errors.\n"
     ]
    }
   ],
   "source": [
    "] add CairoMakie"
   ]
  },
  {
   "cell_type": "code",
   "execution_count": 135,
   "metadata": {},
   "outputs": [],
   "source": [
    "using CairoMakie"
   ]
  },
  {
   "cell_type": "markdown",
   "metadata": {},
   "source": [
    "Graficamos usando Makie la relación "
   ]
  },
  {
   "cell_type": "code",
   "execution_count": 134,
   "metadata": {},
   "outputs": [
    {
     "data": {
      "image/png": "[encoded data removed]",
      "text/plain": [
       "FigureAxisPlot()"
      ]
     },
     "execution_count": 134,
     "metadata": {},
     "output_type": "execute_result"
    }
   ],
   "source": [
    "x = [10:5:100;]\n",
    "scatter(x,datos_error;\n",
    "    figure = (; resolution = (800, 800)),\n",
    "    axis = (;title = \"Error vs Numero de trapecios\",xlabel=\"muestras\", ylabel=\"error\"))"
   ]
  },
  {
   "cell_type": "code",
   "execution_count": null,
   "metadata": {},
   "outputs": [],
   "source": []
  }
 ],
 "metadata": {
  "kernelspec": {
   "display_name": "Julia 1.8.1",
   "language": "julia",
   "name": "julia-1.8"
  },
  "language_info": {
   "file_extension": ".jl",
   "mimetype": "application/julia",
   "name": "julia",
   "version": "1.8.1"
  }
 },
 "nbformat": 4,
 "nbformat_minor": 5
}
